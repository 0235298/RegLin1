{
  "cells": [
    {
      "cell_type": "markdown",
      "source": [
        "# Precio Big Mac"
      ],
      "metadata": {
        "id": "HWoRzTKfUkle"
      }
    },
    {
      "cell_type": "code",
      "execution_count": null,
      "metadata": {
        "id": "RWsPCgzk3krA",
        "outputId": "80cefeb4-a3a5-41fd-cf49-933a91b98c95",
        "colab": {
          "base_uri": "https://localhost:8080/"
        }
      },
      "outputs": [
        {
          "output_type": "stream",
          "name": "stdout",
          "text": [
            "    Año            Pais  Precio\n",
            "0    19       Argentina    2.03\n",
            "1    19        Colombia    3.73\n",
            "2    19          Mexico    2.58\n",
            "3    19  Estados Unidos    4.71\n",
            "4    19         Uruguay    4.38\n",
            "5    20       Argentina    2.85\n",
            "6    20        Colombia    3.62\n",
            "7    20          Mexico    2.78\n",
            "8    20  Estados Unidos    4.82\n",
            "9    20         Uruguay    4.84\n",
            "10   21       Argentina    3.76\n",
            "11   21        Colombia    3.74\n",
            "12   21          Mexico    2.70\n",
            "13   21  Estados Unidos    4.89\n",
            "14   21         Uruguay    4.86\n",
            "15   22       Argentina    4.29\n",
            "16   22        Colombia    3.29\n",
            "17   22          Mexico    3.45\n",
            "18   22  Estados Unidos    5.04\n",
            "19   22         Uruguay    5.43\n"
          ]
        }
      ],
      "source": [
        "\n",
        "import pandas as pd\n",
        "from statsmodels.formula.api import ols\n",
        "\n",
        "Año = [19,19,19,19,19,20,20,20,20,20,21,21,21,21,21,22,22,22,22,22]\n",
        "Pais  = [\"Argentina\", \"Colombia\", \"Mexico\", \"Estados Unidos\", \"Uruguay\",\"Argentina\", \"Colombia\", \"Mexico\", \"Estados Unidos\", \"Uruguay\",\"Argentina\", \"Colombia\", \"Mexico\", \"Estados Unidos\", \"Uruguay\",\"Argentina\", \"Colombia\", \"Mexico\", \"Estados Unidos\", \"Uruguay\"]\n",
        "Precio = [2.03,3.73,2.58,4.71,4.38,2.85,3.62,2.78,4.82,4.84,3.76,3.74,2.7,4.89,4.86,4.29,3.29,3.45,5.04,5.43]\n",
        "\n",
        "df = pd.DataFrame( {\"Año\": Año, \"Pais\": Pais, \"Precio\": Precio})\n",
        "print(df)"
      ]
    },
    {
      "cell_type": "code",
      "execution_count": null,
      "metadata": {
        "id": "MhFIAGwF3krD",
        "outputId": "d90e4826-bbc4-4fd5-bacc-a46179782170",
        "colab": {
          "base_uri": "https://localhost:8080/"
        }
      },
      "outputs": [
        {
          "output_type": "stream",
          "name": "stdout",
          "text": [
            "                            OLS Regression Results                            \n",
            "==============================================================================\n",
            "Dep. Variable:                 Precio   R-squared:                       0.984\n",
            "Model:                            OLS   Adj. R-squared:                  0.970\n",
            "Method:                 Least Squares   F-statistic:                     69.75\n",
            "Date:                Mon, 28 Nov 2022   Prob (F-statistic):           7.73e-08\n",
            "Time:                        02:54:56   Log-Likelihood:                 14.189\n",
            "No. Observations:                  20   AIC:                            -8.379\n",
            "Df Residuals:                      10   BIC:                             1.579\n",
            "Df Model:                           9                                         \n",
            "Covariance Type:            nonrobust                                         \n",
            "==============================================================================================\n",
            "                                 coef    std err          t      P>|t|      [0.025      0.975]\n",
            "----------------------------------------------------------------------------------------------\n",
            "Intercept                    -12.5320      1.546     -8.109      0.000     -15.976      -9.088\n",
            "Pais[T.Colombia]              18.5870      2.186      8.504      0.000      13.717      23.457\n",
            "Pais[T.Estados Unidos]        15.2240      2.186      6.965      0.000      10.354      20.094\n",
            "Pais[T.Mexico]                10.2230      2.186      4.677      0.001       5.353      15.093\n",
            "Pais[T.Uruguay]               10.9110      2.186      4.992      0.001       6.041      15.781\n",
            "Año                            0.7690      0.075     10.215      0.000       0.601       0.937\n",
            "Pais[T.Colombia]:Año          -0.8890      0.106     -8.350      0.000      -1.126      -0.652\n",
            "Pais[T.Estados Unidos]:Año    -0.6630      0.106     -6.228      0.000      -0.900      -0.426\n",
            "Pais[T.Mexico]:Año            -0.5160      0.106     -4.847      0.001      -0.753      -0.279\n",
            "Pais[T.Uruguay]:Año           -0.4520      0.106     -4.246      0.002      -0.689      -0.215\n",
            "==============================================================================\n",
            "Omnibus:                        2.087   Durbin-Watson:                   1.931\n",
            "Prob(Omnibus):                  0.352   Jarque-Bera (JB):                0.814\n",
            "Skew:                          -0.449   Prob(JB):                        0.665\n",
            "Kurtosis:                       3.415   Cond. No.                     2.20e+03\n",
            "==============================================================================\n",
            "\n",
            "Notes:\n",
            "[1] Standard Errors assume that the covariance matrix of the errors is correctly specified.\n",
            "[2] The condition number is large, 2.2e+03. This might indicate that there are\n",
            "strong multicollinearity or other numerical problems.\n"
          ]
        }
      ],
      "source": [
        "Reg = ols(formula = \"Precio ~ Pais + Año + Pais*Año\", data = df)\n",
        "Fit = Reg.fit()\n",
        "print(Fit.summary())"
      ]
    },
    {
      "cell_type": "code",
      "execution_count": null,
      "metadata": {
        "id": "2a9fWhAd3krT",
        "outputId": "7e494461-2c9b-4138-8c4a-f032759daf06",
        "colab": {
          "base_uri": "https://localhost:8080/",
          "height": 654
        }
      },
      "outputs": [
        {
          "output_type": "error",
          "ename": "ValueError",
          "evalue": "ignored",
          "traceback": [
            "\u001b[0;31m---------------------------------------------------------------------------\u001b[0m",
            "\u001b[0;31mValueError\u001b[0m                                Traceback (most recent call last)",
            "\u001b[0;32m<ipython-input-104-fbb2e93547fd>\u001b[0m in \u001b[0;36m<module>\u001b[0;34m\u001b[0m\n\u001b[1;32m      8\u001b[0m    \u001b[0mresponse\u001b[0m \u001b[0;34m=\u001b[0m \u001b[0mFit\u001b[0m\u001b[0;34m.\u001b[0m\u001b[0mfittedvalues\u001b[0m\u001b[0;34m,\u001b[0m\u001b[0;34m\u001b[0m\u001b[0;34m\u001b[0m\u001b[0m\n\u001b[1;32m      9\u001b[0m    \u001b[0mcolors\u001b[0m   \u001b[0;34m=\u001b[0m \u001b[0;34m[\u001b[0m\u001b[0;34m'red'\u001b[0m\u001b[0;34m,\u001b[0m\u001b[0;34m'blue'\u001b[0m\u001b[0;34m]\u001b[0m\u001b[0;34m,\u001b[0m\u001b[0;34m\u001b[0m\u001b[0;34m\u001b[0m\u001b[0m\n\u001b[0;32m---> 10\u001b[0;31m    markers  = ['D','^'])\n\u001b[0m\u001b[1;32m     11\u001b[0m \u001b[0mplt\u001b[0m\u001b[0;34m.\u001b[0m\u001b[0mxlabel\u001b[0m\u001b[0;34m(\u001b[0m\u001b[0;34m'Año'\u001b[0m\u001b[0;34m)\u001b[0m\u001b[0;34m\u001b[0m\u001b[0;34m\u001b[0m\u001b[0m\n\u001b[1;32m     12\u001b[0m \u001b[0mplt\u001b[0m\u001b[0;34m.\u001b[0m\u001b[0mylabel\u001b[0m\u001b[0;34m(\u001b[0m\u001b[0;34m'Precio'\u001b[0m\u001b[0;34m)\u001b[0m\u001b[0;34m\u001b[0m\u001b[0;34m\u001b[0m\u001b[0m\n",
            "\u001b[0;32m/usr/local/lib/python3.7/dist-packages/statsmodels/graphics/factorplots.py\u001b[0m in \u001b[0;36minteraction_plot\u001b[0;34m(x, trace, response, func, ax, plottype, xlabel, ylabel, colors, markers, linestyles, legendloc, legendtitle, **kwargs)\u001b[0m\n\u001b[1;32m    123\u001b[0m         \u001b[0;32mraise\u001b[0m \u001b[0mValueError\u001b[0m\u001b[0;34m(\u001b[0m\u001b[0;34m\"Must be a linestyle for each trace level\"\u001b[0m\u001b[0;34m)\u001b[0m\u001b[0;34m\u001b[0m\u001b[0;34m\u001b[0m\u001b[0m\n\u001b[1;32m    124\u001b[0m     \u001b[0;32mif\u001b[0m \u001b[0mlen\u001b[0m\u001b[0;34m(\u001b[0m\u001b[0mmarkers\u001b[0m\u001b[0;34m)\u001b[0m \u001b[0;34m!=\u001b[0m \u001b[0mn_trace\u001b[0m\u001b[0;34m:\u001b[0m\u001b[0;34m\u001b[0m\u001b[0;34m\u001b[0m\u001b[0m\n\u001b[0;32m--> 125\u001b[0;31m         \u001b[0;32mraise\u001b[0m \u001b[0mValueError\u001b[0m\u001b[0;34m(\u001b[0m\u001b[0;34m\"Must be a marker for each trace level\"\u001b[0m\u001b[0;34m)\u001b[0m\u001b[0;34m\u001b[0m\u001b[0;34m\u001b[0m\u001b[0m\n\u001b[0m\u001b[1;32m    126\u001b[0m     \u001b[0;32mif\u001b[0m \u001b[0mlen\u001b[0m\u001b[0;34m(\u001b[0m\u001b[0mcolors\u001b[0m\u001b[0;34m)\u001b[0m \u001b[0;34m!=\u001b[0m \u001b[0mn_trace\u001b[0m\u001b[0;34m:\u001b[0m\u001b[0;34m\u001b[0m\u001b[0;34m\u001b[0m\u001b[0m\n\u001b[1;32m    127\u001b[0m         \u001b[0;32mraise\u001b[0m \u001b[0mValueError\u001b[0m\u001b[0;34m(\u001b[0m\u001b[0;34m\"Must be a color for each trace level\"\u001b[0m\u001b[0;34m)\u001b[0m\u001b[0;34m\u001b[0m\u001b[0;34m\u001b[0m\u001b[0m\n",
            "\u001b[0;31mValueError\u001b[0m: Must be a marker for each trace level"
          ]
        },
        {
          "output_type": "display_data",
          "data": {
            "text/plain": [
              "<Figure size 432x288 with 1 Axes>"
            ],
            "image/png": "[encoded data removed]"
          },
          "metadata": {}
        }
      ],
      "source": [
        "import matplotlib.pyplot as plt\n",
        "from statsmodels.graphics.factorplots import interaction_plot\n",
        "plt.style.use('ggplot')\n",
        "\n",
        "fig = interaction_plot(\n",
        "   x        = Año,\n",
        "   trace    = Pais,\n",
        "   response = Fit.fittedvalues,\n",
        "   colors   = ['red','blue'],\n",
        "   markers  = ['D','^'])\n",
        "plt.xlabel('Año')\n",
        "plt.ylabel('Precio')\n",
        "plt.legend().set_title(None)\n",
        "plt.show()"
      ]
    },
    {
      "cell_type": "code",
      "source": [],
      "metadata": {
        "id": "TT_R81UdTncP"
      },
      "execution_count": null,
      "outputs": []
    }
  ],
  "metadata": {
    "celltoolbar": "Slideshow",
    "kernelspec": {
      "display_name": "Python 3 (ipykernel)",
      "language": "python",
      "name": "python3"
    },
    "language_info": {
      "codemirror_mode": {
        "name": "ipython",
        "version": 3
      },
      "file_extension": ".py",
      "mimetype": "text/x-python",
      "name": "python",
      "nbconvert_exporter": "python",
      "pygments_lexer": "ipython3",
      "version": "3.9.7"
    },
    "latex_envs": {
      "LaTeX_envs_menu_present": true,
      "autoclose": false,
      "autocomplete": true,
      "bibliofile": "biblio.bib",
      "cite_by": "apalike",
      "current_citInitial": 1,
      "eqLabelWithNumbers": true,
      "eqNumInitial": 1,
      "hotkeys": {
        "equation": "Ctrl-E",
        "itemize": "Ctrl-I"
      },
      "labels_anchors": false,
      "latex_user_defs": false,
      "report_style_numbering": false,
      "user_envs_cfg": false
    },
    "toc": {
      "base_numbering": 1,
      "nav_menu": {},
      "number_sections": false,
      "sideBar": true,
      "skip_h1_title": false,
      "title_cell": "Table of Contents",
      "title_sidebar": "Contents",
      "toc_cell": false,
      "toc_position": {},
      "toc_section_display": true,
      "toc_window_display": false
    },
    "colab": {
      "provenance": []
    }
  },
  "nbformat": 4,
  "nbformat_minor": 0
}